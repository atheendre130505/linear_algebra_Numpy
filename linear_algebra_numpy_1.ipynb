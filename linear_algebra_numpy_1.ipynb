{
  "nbformat": 4,
  "nbformat_minor": 0,
  "metadata": {
    "colab": {
      "provenance": []
    },
    "kernelspec": {
      "name": "python3",
      "display_name": "Python 3"
    },
    "language_info": {
      "name": "python"
    }
  },
  "cells": [
    {
      "cell_type": "code",
      "execution_count": 2,
      "metadata": {
        "colab": {
          "base_uri": "https://localhost:8080/"
        },
        "id": "cafqLify_MXt",
        "outputId": "162da75e-633f-4a48-ebfe-a51a91493afe"
      },
      "outputs": [
        {
          "output_type": "stream",
          "name": "stdout",
          "text": [
            "[ 9 11 13 15]\n",
            "[14 28 42 56]\n"
          ]
        }
      ],
      "source": [
        "import numpy as np\n",
        "\"\"\"1. Scalar Operations\n",
        "Create a scalar s with value 7.\n",
        "\n",
        "Create a 1D array arr with values [2, 4, 6, 8].\n",
        "\n",
        "Add s to each element of arr and print the result.\n",
        "\n",
        "Multiply each element of arr by s and print the result.\n",
        "\n",
        "\"\"\"\n",
        "s=7\n",
        "x=np.array([2,4,6,8])\n",
        "print(x+s)\n",
        "print(x*s)\n",
        "#scalar operations impact each element of a matrix"
      ]
    },
    {
      "cell_type": "code",
      "source": [
        "\"\"\"\n",
        "Create a 2D array matrix representing:\n",
        "\n",
        "3  4\n",
        "5  6\n",
        "\n",
        "Print the array and its shape using matrix.shape.\n",
        "\n",
        "\"\"\"\n",
        "y=np.array(([3,4],[5,6]))\n",
        "print(y,y.shape)\n",
        "#.sape gives dimensionality, roes,cols"
      ],
      "metadata": {
        "colab": {
          "base_uri": "https://localhost:8080/"
        },
        "id": "zjns7VgbmEMe",
        "outputId": "abccb692-55f3-439e-a684-27d6b702ad6c"
      },
      "execution_count": 6,
      "outputs": [
        {
          "output_type": "stream",
          "name": "stdout",
          "text": [
            "[[3 4]\n",
            " [5 6]] (2, 2)\n"
          ]
        }
      ]
    },
    {
      "cell_type": "code",
      "source": [
        "\"\"\"\n",
        "Create two 1D arrays: a = np.array([2, 3, 4]) and b = np.array([5, 6, 7]).\n",
        "\n",
        "Compute and print their element-wise sum and product.\n",
        "\n",
        "Create a 2D array c = np.array([[2, 3], [4, 5]]) and subtract 1 from each element.\n",
        "\n",
        "\"\"\"\n",
        "a=np.array([2,3,4])\n",
        "b=np.array([5,6,7])\n",
        "print(a+b,a*b)\n",
        "c=np.array(([2,3],[4,5]))\n",
        "print(c-1)\n",
        "#scalar operations can impact all shapes of matrices"
      ],
      "metadata": {
        "colab": {
          "base_uri": "https://localhost:8080/"
        },
        "id": "5PCybn-nmvGD",
        "outputId": "8e80fb56-c90e-4ff4-cfc7-9e5478cc1ca6"
      },
      "execution_count": 9,
      "outputs": [
        {
          "output_type": "stream",
          "name": "stdout",
          "text": [
            "[ 7  9 11] [10 18 28]\n",
            "[[1 2]\n",
            " [3 4]]\n"
          ]
        }
      ]
    },
    {
      "cell_type": "code",
      "source": [
        "\"\"\"\n",
        "Use np.random.randint(1, 20, size=4) to create a 1D array of 4 random integers between 1 and 19.\n",
        "\n",
        "Multiply each element by 5 and print the result.\n",
        "\n",
        "\"\"\"\n",
        "z=np.random.randint(1,20,size=4)\n",
        "print(z*5)\n",
        "#useage of np.random.randint, with matrix of size 4"
      ],
      "metadata": {
        "colab": {
          "base_uri": "https://localhost:8080/"
        },
        "id": "zuzTOA33nPZM",
        "outputId": "46a7d964-e8f4-4d3a-92f5-e5aaa1b69517"
      },
      "execution_count": 10,
      "outputs": [
        {
          "output_type": "stream",
          "name": "stdout",
          "text": [
            "[70 65 85 85]\n"
          ]
        }
      ]
    },
    {
      "cell_type": "code",
      "source": [
        "print(z)"
      ],
      "metadata": {
        "colab": {
          "base_uri": "https://localhost:8080/"
        },
        "id": "lP2c44qkn3Yg",
        "outputId": "8c9c1355-ffb3-48de-8fe6-457d21f0d749"
      },
      "execution_count": 11,
      "outputs": [
        {
          "output_type": "stream",
          "name": "stdout",
          "text": [
            "[14 13 17 17]\n"
          ]
        }
      ]
    },
    {
      "cell_type": "code",
      "source": [
        "\"\"\"\n",
        "Create a 1D array d = np.array([1, 2, 3]) and a 2D array e = np.array([[4, 5], [6, 7], [8, 9]]).\n",
        "\n",
        "Try adding d and e together using d + e. What happens? Why? (Hint: NumPy’s broadcasting adjusts shapes if possible—check the result!)\n",
        "\n",
        "\"\"\"\n",
        "d=np.array([1,2,3])\n",
        "f=np.array([1,2])\n",
        "g=np.array(([1],[2]))\n",
        "e=np.array(([4,5],[6,7],[8,9]))\n"
      ],
      "metadata": {
        "id": "VJlrETQCn8NI"
      },
      "execution_count": 20,
      "outputs": []
    },
    {
      "cell_type": "code",
      "source": [
        "print(d+e)"
      ],
      "metadata": {
        "colab": {
          "base_uri": "https://localhost:8080/",
          "height": 141
        },
        "id": "RXNjQ0hEoOre",
        "outputId": "154a79b6-c109-4f98-ac61-4acdbff32e8b"
      },
      "execution_count": 17,
      "outputs": [
        {
          "output_type": "error",
          "ename": "ValueError",
          "evalue": "operands could not be broadcast together with shapes (3,) (3,2) ",
          "traceback": [
            "\u001b[0;31m---------------------------------------------------------------------------\u001b[0m",
            "\u001b[0;31mValueError\u001b[0m                                Traceback (most recent call last)",
            "\u001b[0;32m<ipython-input-17-d700f322c7ec>\u001b[0m in \u001b[0;36m<cell line: 0>\u001b[0;34m()\u001b[0m\n\u001b[0;32m----> 1\u001b[0;31m \u001b[0mprint\u001b[0m\u001b[0;34m(\u001b[0m\u001b[0md\u001b[0m\u001b[0;34m+\u001b[0m\u001b[0me\u001b[0m\u001b[0;34m)\u001b[0m\u001b[0;34m\u001b[0m\u001b[0;34m\u001b[0m\u001b[0m\n\u001b[0m",
            "\u001b[0;31mValueError\u001b[0m: operands could not be broadcast together with shapes (3,) (3,2) "
          ]
        }
      ]
    },
    {
      "cell_type": "code",
      "source": [
        "print(f+e)\n"
      ],
      "metadata": {
        "colab": {
          "base_uri": "https://localhost:8080/"
        },
        "id": "_207lM2QotxB",
        "outputId": "e51ca81e-57af-4e76-b240-9951b396a8c7"
      },
      "execution_count": 18,
      "outputs": [
        {
          "output_type": "stream",
          "name": "stdout",
          "text": [
            "[[ 5  7]\n",
            " [ 7  9]\n",
            " [ 9 11]]\n"
          ]
        }
      ]
    },
    {
      "cell_type": "code",
      "source": [
        "print(g+e)"
      ],
      "metadata": {
        "colab": {
          "base_uri": "https://localhost:8080/",
          "height": 141
        },
        "id": "z9DbDUpNovtT",
        "outputId": "71b42912-0fa6-4ec2-e9e9-92f1dba17850"
      },
      "execution_count": 19,
      "outputs": [
        {
          "output_type": "error",
          "ename": "ValueError",
          "evalue": "operands could not be broadcast together with shapes (2,1) (3,2) ",
          "traceback": [
            "\u001b[0;31m---------------------------------------------------------------------------\u001b[0m",
            "\u001b[0;31mValueError\u001b[0m                                Traceback (most recent call last)",
            "\u001b[0;32m<ipython-input-19-2f9895cf2c03>\u001b[0m in \u001b[0;36m<cell line: 0>\u001b[0;34m()\u001b[0m\n\u001b[0;32m----> 1\u001b[0;31m \u001b[0mprint\u001b[0m\u001b[0;34m(\u001b[0m\u001b[0mg\u001b[0m\u001b[0;34m+\u001b[0m\u001b[0me\u001b[0m\u001b[0;34m)\u001b[0m\u001b[0;34m\u001b[0m\u001b[0;34m\u001b[0m\u001b[0m\n\u001b[0m",
            "\u001b[0;31mValueError\u001b[0m: operands could not be broadcast together with shapes (2,1) (3,2) "
          ]
        }
      ]
    },
    {
      "cell_type": "code",
      "source": [
        "\"\"\"\n",
        "Create vectors u = [2, -1, 4] and v = [0, 3, -2].\n",
        "\n",
        "Compute their sum and difference.\n",
        "\n",
        "Multiply u by 2 and v by -1.\n",
        "\n",
        "\"\"\"\n",
        "u=np.array([2,-1,4])\n",
        "v=np.array([0,3,-2])\n",
        "print(v+u)\n",
        "print(v-u)\n",
        "print(u*2)\n",
        "print(v*-1)"
      ],
      "metadata": {
        "colab": {
          "base_uri": "https://localhost:8080/"
        },
        "id": "p-dF_3FSowhE",
        "outputId": "b30ba062-d426-438b-ed0d-06576404852b"
      },
      "execution_count": 21,
      "outputs": [
        {
          "output_type": "stream",
          "name": "stdout",
          "text": [
            "[2 2 2]\n",
            "[-2  4 -6]\n",
            "[ 4 -2  8]\n",
            "[ 0 -3  2]\n"
          ]
        }
      ]
    },
    {
      "cell_type": "code",
      "source": [
        "\"\"\"\n",
        "Using u and v from above:\n",
        "Find their dot product.\n",
        "\n",
        "Calculate their magnitudes.\n",
        "\n",
        "Compute the angle between them (hint: use cosθ = (u • v) / (||u|| * ||v||) and np.arccos()).\n",
        "\n",
        "\"\"\"\n",
        "print(np.dot(u,v))#tells how aligned both the vectors are\n",
        "print(np.linalg.norm(u))\n",
        "print(np.linalg.norm(v))\n",
        "#norm is magnitude(found using pytha theorem)\n",
        "x=np.dot(u,v)/(np.linalg.norm(u)*np.linalg.norm(v))\n",
        "print(np.arccos(x))"
      ],
      "metadata": {
        "colab": {
          "base_uri": "https://localhost:8080/"
        },
        "id": "VGxpYuK1wqsX",
        "outputId": "4a63cc5e-b326-460f-c21d-7813766f0b3f"
      },
      "execution_count": 24,
      "outputs": [
        {
          "output_type": "stream",
          "name": "stdout",
          "text": [
            "-11\n",
            "4.58257569495584\n",
            "3.605551275463989\n",
            "2.2992952041945536\n"
          ]
        }
      ]
    },
    {
      "cell_type": "code",
      "source": [
        "\"\"\"\n",
        "Create w = [1, 2, 3].\n",
        "\n",
        "Normalize it (divide by its norm) so its magnitude becomes 1.\n",
        "\n",
        "Check that the new norm is 1.\n",
        "\n",
        "Create two 2D vectors that are perpendicular (e.g., [1, 0] and [0, 1]).\n",
        "\n",
        "Verify their dot product is zero.\n",
        "\n",
        "\"\"\"\n",
        "\n",
        "w=np.array([1,2,3])\n",
        "l=w/(np.linalg.norm(w))\n",
        "print(l)\n",
        "print(np.linalg.norm(l))\n",
        "m=np.array([1,0])\n",
        "n=np.array([0,2])\n",
        "print(np.dot(m,n))\n"
      ],
      "metadata": {
        "colab": {
          "base_uri": "https://localhost:8080/"
        },
        "id": "kL0UG4X2xQzU",
        "outputId": "c6363d8d-f411-4304-9c00-1352437bdd16"
      },
      "execution_count": 25,
      "outputs": [
        {
          "output_type": "stream",
          "name": "stdout",
          "text": [
            "[0.26726124 0.53452248 0.80178373]\n",
            "1.0\n",
            "0\n"
          ]
        }
      ]
    },
    {
      "cell_type": "code",
      "source": [
        "\"\"\"\n",
        "Create two 4D vectors (e.g., [1, 2, 3, 4] and [0, -1, 2, -3]).\n",
        "\n",
        "Compute their sum, dot product, and angle.\n",
        "\n",
        "\"\"\"\n",
        "a=np.array([1,2,3,4])\n",
        "b=np.array([0,-1,2,-3])\n",
        "print(a+b)\n",
        "dotp=np.dot(a,b)\n",
        "a_norm=np.linalg.norm(a)\n",
        "b_norm=np.linalg.norm(b)\n",
        "print(np.arccos(dotp/(a_norm*b_norm)))"
      ],
      "metadata": {
        "colab": {
          "base_uri": "https://localhost:8080/"
        },
        "id": "oWiuneOp0KiL",
        "outputId": "0d6dc0c3-9911-4275-e206-74315c778cad"
      },
      "execution_count": 26,
      "outputs": [
        {
          "output_type": "stream",
          "name": "stdout",
          "text": [
            "[1 1 5 1]\n",
            "1.971818941644976\n"
          ]
        }
      ]
    },
    {
      "cell_type": "code",
      "source": [],
      "metadata": {
        "id": "6GRvR7DI1CRh"
      },
      "execution_count": null,
      "outputs": []
    }
  ]
}