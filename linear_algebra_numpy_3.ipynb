{
  "nbformat": 4,
  "nbformat_minor": 0,
  "metadata": {
    "colab": {
      "provenance": []
    },
    "kernelspec": {
      "name": "python3",
      "display_name": "Python 3"
    },
    "language_info": {
      "name": "python"
    }
  },
  "cells": [
    {
      "cell_type": "code",
      "execution_count": 2,
      "metadata": {
        "id": "G-8N5635wTh2",
        "colab": {
          "base_uri": "https://localhost:8080/",
          "height": 70
        },
        "outputId": "d79a7542-9829-4e8a-c638-fe208e06b8cd"
      },
      "outputs": [
        {
          "output_type": "execute_result",
          "data": {
            "text/plain": [
              "'\\nDefine B=[4123]B = \\x08egin{bmatrix} 4 & 1 \\\\ 2 & 3 \\\\end{bmatrix}B = \\x08egin{bmatrix} 4 & 1 \\\\ 2 & 3 \\\\end{bmatrix}\\n.\\n\\nCalculate its determinant.\\n\\nFind its inverse and verify B@B−1=IB @ B^{-1} = IB @ B^{-1} = I\\n.\\n\\nDefine C=[1200312−14]C = \\x08egin{bmatrix} 1 & 2 & 0 \\\\ 0 & 3 & 1 \\\\ 2 & -1 & 4 \\\\end{bmatrix}C = \\x08egin{bmatrix} 1 & 2 & 0 \\\\ 0 & 3 & 1 \\\\ 2 & -1 & 4 \\\\end{bmatrix}\\n.\\n\\nCompute det(C)\\text{det}(C)\\text{det}(C)\\n.\\n\\nFind C−1C^{-1}C^{-1}\\n and check the result.\\n'"
            ],
            "application/vnd.google.colaboratory.intrinsic+json": {
              "type": "string"
            }
          },
          "metadata": {},
          "execution_count": 2
        }
      ],
      "source": [
        "\"\"\"\n",
        "Define B=[4123]B = \\begin{bmatrix} 4 & 1 \\\\ 2 & 3 \\end{bmatrix}B = \\begin{bmatrix} 4 & 1 \\\\ 2 & 3 \\end{bmatrix}\n",
        ".\n",
        "\n",
        "Calculate its determinant.\n",
        "\n",
        "Find its inverse and verify B@B−1=IB @ B^{-1} = IB @ B^{-1} = I\n",
        ".\n",
        "\n",
        "Define C=[1200312−14]C = \\begin{bmatrix} 1 & 2 & 0 \\\\ 0 & 3 & 1 \\\\ 2 & -1 & 4 \\end{bmatrix}C = \\begin{bmatrix} 1 & 2 & 0 \\\\ 0 & 3 & 1 \\\\ 2 & -1 & 4 \\end{bmatrix}\n",
        ".\n",
        "\n",
        "Compute det(C)\\text{det}(C)\\text{det}(C)\n",
        ".\n",
        "\n",
        "Find C−1C^{-1}C^{-1}\n",
        " and check the result.\n",
        "\"\"\"\n"
      ]
    },
    {
      "cell_type": "code",
      "source": [
        "import numpy as np\n",
        "b=np.array(([4,1],[2,3]))\n",
        "x=np.linalg.det(b)\n",
        "print(x)\n",
        "if x!=0:\n",
        "  inv=np.linalg.inv(b)\n",
        "  print(inv)\n",
        "  print(b @ inv)\n"
      ],
      "metadata": {
        "colab": {
          "base_uri": "https://localhost:8080/"
        },
        "id": "41ToY9H3zHxJ",
        "outputId": "9a36f85a-bf69-43c8-ecd6-b20a4bad4683"
      },
      "execution_count": 4,
      "outputs": [
        {
          "output_type": "stream",
          "name": "stdout",
          "text": [
            "10.000000000000002\n",
            "[[ 0.3 -0.1]\n",
            " [-0.2  0.4]]\n",
            "[[ 1.00000000e+00  0.00000000e+00]\n",
            " [-5.55111512e-17  1.00000000e+00]]\n"
          ]
        }
      ]
    },
    {
      "cell_type": "code",
      "source": [
        "c=np.array(([1,2,0],[0,3,1],[2,-1,4]))\n",
        "x=np.linalg.det(c)\n",
        "print(x)\n",
        "print(np.linalg.inv(c))\n",
        "print(c @ np.linalg.inv(c) )"
      ],
      "metadata": {
        "colab": {
          "base_uri": "https://localhost:8080/"
        },
        "id": "DcSwGal5z5LH",
        "outputId": "fe751a36-7c9c-402b-e465-4cbd895669f7"
      },
      "execution_count": 6,
      "outputs": [
        {
          "output_type": "stream",
          "name": "stdout",
          "text": [
            "17.0\n",
            "[[ 0.76470588 -0.47058824  0.11764706]\n",
            " [ 0.11764706  0.23529412 -0.05882353]\n",
            " [-0.35294118  0.29411765  0.17647059]]\n",
            "[[ 1.00000000e+00 -1.11022302e-16 -2.77555756e-17]\n",
            " [-5.55111512e-17  1.00000000e+00  2.77555756e-17]\n",
            " [ 0.00000000e+00  0.00000000e+00  1.00000000e+00]]\n"
          ]
        }
      ]
    },
    {
      "cell_type": "code",
      "source": [
        "d=np.array(([1,2],[2,4]))\n",
        "x=np.linalg.det(d)\n",
        "print(x)\n",
        "y=np.linalg.inv(d)\n",
        "print(y)\n",
        "print(d @ y)#det is 0 ie squished into a smaller dimension because of linear dependency, therefore infinitely many sols therefore singular matrix"
      ],
      "metadata": {
        "colab": {
          "base_uri": "https://localhost:8080/",
          "height": 374
        },
        "id": "oAm_K8hG0mXM",
        "outputId": "9bef3270-9b64-419a-c7cc-6c7921cb5486"
      },
      "execution_count": 8,
      "outputs": [
        {
          "output_type": "stream",
          "name": "stdout",
          "text": [
            "0.0\n"
          ]
        },
        {
          "output_type": "error",
          "ename": "LinAlgError",
          "evalue": "Singular matrix",
          "traceback": [
            "\u001b[0;31m---------------------------------------------------------------------------\u001b[0m",
            "\u001b[0;31mLinAlgError\u001b[0m                               Traceback (most recent call last)",
            "\u001b[0;32m<ipython-input-8-3ca6fc29b0ab>\u001b[0m in \u001b[0;36m<cell line: 0>\u001b[0;34m()\u001b[0m\n\u001b[1;32m      2\u001b[0m \u001b[0mx\u001b[0m\u001b[0;34m=\u001b[0m\u001b[0mnp\u001b[0m\u001b[0;34m.\u001b[0m\u001b[0mlinalg\u001b[0m\u001b[0;34m.\u001b[0m\u001b[0mdet\u001b[0m\u001b[0;34m(\u001b[0m\u001b[0md\u001b[0m\u001b[0;34m)\u001b[0m\u001b[0;34m\u001b[0m\u001b[0;34m\u001b[0m\u001b[0m\n\u001b[1;32m      3\u001b[0m \u001b[0mprint\u001b[0m\u001b[0;34m(\u001b[0m\u001b[0mx\u001b[0m\u001b[0;34m)\u001b[0m\u001b[0;34m\u001b[0m\u001b[0;34m\u001b[0m\u001b[0m\n\u001b[0;32m----> 4\u001b[0;31m \u001b[0my\u001b[0m\u001b[0;34m=\u001b[0m\u001b[0mnp\u001b[0m\u001b[0;34m.\u001b[0m\u001b[0mlinalg\u001b[0m\u001b[0;34m.\u001b[0m\u001b[0minv\u001b[0m\u001b[0;34m(\u001b[0m\u001b[0md\u001b[0m\u001b[0;34m)\u001b[0m\u001b[0;34m\u001b[0m\u001b[0;34m\u001b[0m\u001b[0m\n\u001b[0m\u001b[1;32m      5\u001b[0m \u001b[0mprint\u001b[0m\u001b[0;34m(\u001b[0m\u001b[0my\u001b[0m\u001b[0;34m)\u001b[0m\u001b[0;34m\u001b[0m\u001b[0;34m\u001b[0m\u001b[0m\n\u001b[1;32m      6\u001b[0m \u001b[0mprint\u001b[0m\u001b[0;34m(\u001b[0m\u001b[0md\u001b[0m \u001b[0;34m@\u001b[0m \u001b[0my\u001b[0m\u001b[0;34m)\u001b[0m\u001b[0;34m\u001b[0m\u001b[0;34m\u001b[0m\u001b[0m\n",
            "\u001b[0;32m/usr/local/lib/python3.11/dist-packages/numpy/linalg/_linalg.py\u001b[0m in \u001b[0;36minv\u001b[0;34m(a)\u001b[0m\n\u001b[1;32m    606\u001b[0m     with errstate(call=_raise_linalgerror_singular, invalid='call',\n\u001b[1;32m    607\u001b[0m                   over='ignore', divide='ignore', under='ignore'):\n\u001b[0;32m--> 608\u001b[0;31m         \u001b[0mainv\u001b[0m \u001b[0;34m=\u001b[0m \u001b[0m_umath_linalg\u001b[0m\u001b[0;34m.\u001b[0m\u001b[0minv\u001b[0m\u001b[0;34m(\u001b[0m\u001b[0ma\u001b[0m\u001b[0;34m,\u001b[0m \u001b[0msignature\u001b[0m\u001b[0;34m=\u001b[0m\u001b[0msignature\u001b[0m\u001b[0;34m)\u001b[0m\u001b[0;34m\u001b[0m\u001b[0;34m\u001b[0m\u001b[0m\n\u001b[0m\u001b[1;32m    609\u001b[0m     \u001b[0;32mreturn\u001b[0m \u001b[0mwrap\u001b[0m\u001b[0;34m(\u001b[0m\u001b[0mainv\u001b[0m\u001b[0;34m.\u001b[0m\u001b[0mastype\u001b[0m\u001b[0;34m(\u001b[0m\u001b[0mresult_t\u001b[0m\u001b[0;34m,\u001b[0m \u001b[0mcopy\u001b[0m\u001b[0;34m=\u001b[0m\u001b[0;32mFalse\u001b[0m\u001b[0;34m)\u001b[0m\u001b[0;34m)\u001b[0m\u001b[0;34m\u001b[0m\u001b[0;34m\u001b[0m\u001b[0m\n\u001b[1;32m    610\u001b[0m \u001b[0;34m\u001b[0m\u001b[0m\n",
            "\u001b[0;32m/usr/local/lib/python3.11/dist-packages/numpy/linalg/_linalg.py\u001b[0m in \u001b[0;36m_raise_linalgerror_singular\u001b[0;34m(err, flag)\u001b[0m\n\u001b[1;32m    102\u001b[0m \u001b[0;34m\u001b[0m\u001b[0m\n\u001b[1;32m    103\u001b[0m \u001b[0;32mdef\u001b[0m \u001b[0m_raise_linalgerror_singular\u001b[0m\u001b[0;34m(\u001b[0m\u001b[0merr\u001b[0m\u001b[0;34m,\u001b[0m \u001b[0mflag\u001b[0m\u001b[0;34m)\u001b[0m\u001b[0;34m:\u001b[0m\u001b[0;34m\u001b[0m\u001b[0;34m\u001b[0m\u001b[0m\n\u001b[0;32m--> 104\u001b[0;31m     \u001b[0;32mraise\u001b[0m \u001b[0mLinAlgError\u001b[0m\u001b[0;34m(\u001b[0m\u001b[0;34m\"Singular matrix\"\u001b[0m\u001b[0;34m)\u001b[0m\u001b[0;34m\u001b[0m\u001b[0;34m\u001b[0m\u001b[0m\n\u001b[0m\u001b[1;32m    105\u001b[0m \u001b[0;34m\u001b[0m\u001b[0m\n\u001b[1;32m    106\u001b[0m \u001b[0;32mdef\u001b[0m \u001b[0m_raise_linalgerror_nonposdef\u001b[0m\u001b[0;34m(\u001b[0m\u001b[0merr\u001b[0m\u001b[0;34m,\u001b[0m \u001b[0mflag\u001b[0m\u001b[0;34m)\u001b[0m\u001b[0;34m:\u001b[0m\u001b[0;34m\u001b[0m\u001b[0;34m\u001b[0m\u001b[0m\n",
            "\u001b[0;31mLinAlgError\u001b[0m: Singular matrix"
          ]
        }
      ]
    },
    {
      "cell_type": "code",
      "source": [
        "\"\"\"\n",
        "For the system:\n",
        "{\n",
        "x + 2y = 5 \\\\\n",
        "3x + 4y = 11\n",
        "\\end{cases}\\begin{cases}\n",
        "x + 2y = 5 \\\\\n",
        "3x + 4y = 11\n",
        "\\end{cases}\n",
        "\n",
        "Represent it as Ax=bA \\mathbf{x} = \\mathbf{b}A \\mathbf{x} = \\mathbf{b}\n",
        ".\n",
        "\n",
        "Solve using x=A−1@b\\mathbf{x} = A^{-1} @ \\mathbf{b}\\mathbf{x} = A^{-1} @ \\mathbf{b}\n",
        " instead of np.linalg.solve().\n",
        "\n",
        "\n",
        "Take E=[2003]E = \\begin{bmatrix} 2 & 0 \\\\ 0 & 3 \\end{bmatrix}E = \\begin{bmatrix} 2 & 0 \\\\ 0 & 3 \\end{bmatrix}\n",
        ".\n",
        "\n",
        "Compute its determinant and inverse.\n",
        "\n",
        "Multiply ( E ) by a scalar (e.g., 2) and recompute. How do the determinant and inverse change?\n",
        "\n",
        "\"\"\"\n",
        "\n",
        "const=np.array(([1,2],[3,4]))\n",
        "equated=np.array([5,11])\n",
        "x,y=np.linalg.solve(const,equated)\n",
        "print(x,y)\n",
        "print(const @ np.array([x,y]))"
      ],
      "metadata": {
        "colab": {
          "base_uri": "https://localhost:8080/"
        },
        "id": "I4dLG8tb1PCP",
        "outputId": "43cbf5d4-ac84-4043-b979-de1c54bf3047"
      },
      "execution_count": 11,
      "outputs": [
        {
          "output_type": "stream",
          "name": "stdout",
          "text": [
            "1.0 2.0\n",
            "[ 5. 11.]\n"
          ]
        }
      ]
    },
    {
      "cell_type": "code",
      "source": [
        "const_inv=np.linalg.inv(const)\n",
        "print(const_inv)\n",
        "print(const_inv @ equated)#using the inverse also gives you the values of x and y"
      ],
      "metadata": {
        "colab": {
          "base_uri": "https://localhost:8080/"
        },
        "id": "a6H0jgKE2TAp",
        "outputId": "260e67ec-967f-49d2-d44e-072e349c3e5d"
      },
      "execution_count": 14,
      "outputs": [
        {
          "output_type": "stream",
          "name": "stdout",
          "text": [
            "[[-2.   1. ]\n",
            " [ 1.5 -0.5]]\n",
            "[1. 2.]\n"
          ]
        }
      ]
    },
    {
      "cell_type": "code",
      "source": [
        "e=np.array(([2,0],[0,3]))\n",
        "e_det=np.linalg.det(e)\n",
        "e_inv=np.linalg.inv(e)\n",
        "print(e_det,\"\\n\",e_inv)\n",
        "print(e @ e_inv)\n",
        "\n"
      ],
      "metadata": {
        "colab": {
          "base_uri": "https://localhost:8080/"
        },
        "id": "Z6HOsEYA2k3g",
        "outputId": "fd267d3a-dc65-4759-fe39-cff5680576ab"
      },
      "execution_count": 33,
      "outputs": [
        {
          "output_type": "stream",
          "name": "stdout",
          "text": [
            "6.0 \n",
            " [[0.5        0.        ]\n",
            " [0.         0.33333333]]\n",
            "[[1. 0.]\n",
            " [0. 1.]]\n"
          ]
        }
      ]
    },
    {
      "cell_type": "code",
      "source": [
        "e=e * 2\n",
        "e_det=np.linalg.det(e)#12*2 or 6*2*2\n",
        "e_inv=np.linalg.inv(e)\n",
        "print(e_det,\"\\n\",e_inv)\n",
        "print(e @ e_inv)"
      ],
      "metadata": {
        "colab": {
          "base_uri": "https://localhost:8080/"
        },
        "id": "7jxbAD9x3r8A",
        "outputId": "8c536b34-d4a8-4e4e-b1e4-e14c4815a8c2"
      },
      "execution_count": 27,
      "outputs": [
        {
          "output_type": "stream",
          "name": "stdout",
          "text": [
            "23.999999999999993 \n",
            " [[0.25       0.        ]\n",
            " [0.         0.16666667]]\n",
            "[[1. 0.]\n",
            " [0. 1.]]\n"
          ]
        }
      ]
    },
    {
      "cell_type": "code",
      "source": [
        "e=e * 3\n",
        "e_det=np.linalg.det(e)#18*3 or 6*3*3\n",
        "e_inv=np.linalg.inv(e)\n",
        "print(e_det,\"\\n\",e_inv)\n",
        "print(e @ e_inv)"
      ],
      "metadata": {
        "colab": {
          "base_uri": "https://localhost:8080/"
        },
        "id": "DeJqf5-F3vC5",
        "outputId": "e53ca2e6-6499-4c96-d1a1-0beccd3c2069"
      },
      "execution_count": 29,
      "outputs": [
        {
          "output_type": "stream",
          "name": "stdout",
          "text": [
            "54.00000000000001 \n",
            " [[0.16666667 0.        ]\n",
            " [0.         0.11111111]]\n",
            "[[1. 0.]\n",
            " [0. 1.]]\n"
          ]
        }
      ]
    },
    {
      "cell_type": "code",
      "source": [
        "e=e * 4\n",
        "e_det=np.linalg.det(e)#24*4 or 6*4*4\n",
        "e_inv=np.linalg.inv(e)\n",
        "print(e_det,\"\\n\",e_inv)\n",
        "print(e @ e_inv)"
      ],
      "metadata": {
        "colab": {
          "base_uri": "https://localhost:8080/"
        },
        "id": "JuHVI4ZS4DWa",
        "outputId": "250d78b4-c71c-4b6a-f222-9ef2fc6c072d"
      },
      "execution_count": 32,
      "outputs": [
        {
          "output_type": "stream",
          "name": "stdout",
          "text": [
            "1536.0000000000002 \n",
            " [[0.03125    0.        ]\n",
            " [0.         0.02083333]]\n",
            "[[1. 0.]\n",
            " [0. 1.]]\n"
          ]
        }
      ]
    },
    {
      "cell_type": "code",
      "source": [
        "e=e * -2\n",
        "e_det=np.linalg.det(e)#6 * -2^2 #because it is 2 dimensional, if it was 3d it would mean cubed as area inc here and vol there\n",
        "e_inv=np.linalg.inv(e)#Inverse of this is the original inverse divided by scalar again and again from t\n",
        "print(e_det,\"\\n\",e_inv)\n",
        "print(e @ e_inv)"
      ],
      "metadata": {
        "colab": {
          "base_uri": "https://localhost:8080/"
        },
        "id": "w8gh4IiC4J8B",
        "outputId": "4bd0418d-6a0f-4fb6-a4d6-f98f55b009c4"
      },
      "execution_count": 34,
      "outputs": [
        {
          "output_type": "stream",
          "name": "stdout",
          "text": [
            "23.999999999999993 \n",
            " [[-0.25       -0.        ]\n",
            " [-0.         -0.16666667]]\n",
            "[[1. 0.]\n",
            " [0. 1.]]\n"
          ]
        }
      ]
    },
    {
      "cell_type": "code",
      "source": [
        "\"\"\"\n",
        "Define B=[4123]B = \\begin{bmatrix} 4 & 1 \\\\ 2 & 3 \\end{bmatrix}B = \\begin{bmatrix} 4 & 1 \\\\ 2 & 3 \\end{bmatrix}\n",
        ".\n",
        "\n",
        "Find its eigenvalues and eigenvectors.\n",
        "\n",
        "Verify Av=λvA \\mathbf{v} = \\lambda \\mathbf{v}A \\mathbf{v} = \\lambda \\mathbf{v}\n",
        " for one pair.\n",
        "\n",
        "2. 3x3 Matrix\n",
        "Define C=[102020201]C = \\begin{bmatrix} 1 & 0 & 2 \\\\ 0 & 2 & 0 \\\\ 2 & 0 & 1 \\end{bmatrix}C = \\begin{bmatrix} 1 & 0 & 2 \\\\ 0 & 2 & 0 \\\\ 2 & 0 & 1 \\end{bmatrix}\n",
        ".\n",
        "\n",
        "Compute its eigenvalues and eigenvectors.\n",
        "\n",
        "Check one pair.\n",
        "\n",
        "3. Diagonal Matrix\n",
        "Create D=[5000−20003]D = \\begin{bmatrix} 5 & 0 & 0 \\\\ 0 & -2 & 0 \\\\ 0 & 0 & 3 \\end{bmatrix}D = \\begin{bmatrix} 5 & 0 & 0 \\\\ 0 & -2 & 0 \\\\ 0 & 0 & 3 \\end{bmatrix}\n",
        ".\n",
        "\n",
        "Find its eigenvalues and eigenvectors. What do you notice about the eigenvalues?\n",
        "\n",
        "4. Symmetric Matrix Property\n",
        "Use A=[2112]A = \\begin{bmatrix} 2 & 1 \\\\ 1 & 2 \\end{bmatrix}A = \\begin{bmatrix} 2 & 1 \\\\ 1 & 2 \\end{bmatrix}\n",
        " from the example.\n",
        "\n",
        "Confirm it’s symmetric (A=ATA = A^TA = A^T\n",
        ").\n",
        "\n",
        "Are the eigenvalues real? Are the eigenvectors orthogonal (dot product = 0)?\n",
        "\n",
        "5. Scaling Effect\n",
        "Take E=[1221]E = \\begin{bmatrix} 1 & 2 \\\\ 2 & 1 \\end{bmatrix}E = \\begin{bmatrix} 1 & 2 \\\\ 2 & 1 \\end{bmatrix}\n",
        ".\n",
        "\n",
        "Compute its eigenvalues and eigenvectors.\n",
        "\n",
        "Multiply ( E ) by 2 and recompute. How do the eigenvalues change?\n",
        "\n",
        "\"\"\""
      ],
      "metadata": {
        "id": "ZUKxdHTf5LTv"
      },
      "execution_count": null,
      "outputs": []
    },
    {
      "cell_type": "code",
      "source": [
        "b=np.array(([4,1],[2,3]))\n",
        "eigenval,eigenvect=np.linalg.eig(b)\n",
        "print(eigenval)\n",
        "print(eigenvect)\n",
        "v1=eigenvect[:,0]\n",
        "v2=eigenvect[1]"
      ],
      "metadata": {
        "colab": {
          "base_uri": "https://localhost:8080/"
        },
        "id": "31nT3CSAH93d",
        "outputId": "cf3653f5-1313-4af1-f5d6-3958d90c9ba4"
      },
      "execution_count": 39,
      "outputs": [
        {
          "output_type": "stream",
          "name": "stdout",
          "text": [
            "[5. 2.]\n",
            "[[ 0.70710678 -0.4472136 ]\n",
            " [ 0.70710678  0.89442719]]\n"
          ]
        }
      ]
    },
    {
      "cell_type": "code",
      "source": [
        "print(b @ v1)\n",
        "print(eigenval[0] * v1)"
      ],
      "metadata": {
        "colab": {
          "base_uri": "https://localhost:8080/"
        },
        "id": "86fxYXrhIW_s",
        "outputId": "0b66441b-e102-40a0-c848-046671a526e0"
      },
      "execution_count": 42,
      "outputs": [
        {
          "output_type": "stream",
          "name": "stdout",
          "text": [
            "[3.53553391 3.53553391]\n",
            "[3.53553391 3.53553391]\n"
          ]
        }
      ]
    },
    {
      "cell_type": "code",
      "source": [
        "c=np.array(([1,0,2],[0,2,0],[2,0,1]))\n",
        "eigenval,eigenvect=np.linalg.eig(c)\n",
        "print(eigenval)\n",
        "print(eigenvect)\n",
        "v1=eigenvect[:,0]\n",
        "print(c @ v1)\n",
        "print(eigenval[0] * v1 )\n"
      ],
      "metadata": {
        "colab": {
          "base_uri": "https://localhost:8080/"
        },
        "id": "y2QDAhfSJBZ-",
        "outputId": "bd1c72d5-84a2-44ff-d3cb-278bfee676fd"
      },
      "execution_count": 44,
      "outputs": [
        {
          "output_type": "stream",
          "name": "stdout",
          "text": [
            "[ 3. -1.  2.]\n",
            "[[ 0.70710678 -0.70710678  0.        ]\n",
            " [ 0.          0.          1.        ]\n",
            " [ 0.70710678  0.70710678  0.        ]]\n",
            "[2.12132034 0.         2.12132034]\n",
            "[2.12132034 0.         2.12132034]\n"
          ]
        }
      ]
    },
    {
      "cell_type": "code",
      "source": [
        "d=np.array(([5,0,0],[0,-2,0],[0,0,3]))\n",
        "eigenval,eigenvect=np.linalg.eig(d)\n",
        "print(eigenval)\n",
        "print(eigenvect)#for a diagonal matrix, the identity matrix is the eigenvector\n",
        "v1=eigenvect[:,0]\n",
        "print(d @ v1)\n",
        "print(eigenval[0] * v1)"
      ],
      "metadata": {
        "colab": {
          "base_uri": "https://localhost:8080/"
        },
        "id": "1XRXGO82SvDQ",
        "outputId": "6cbf58e9-b869-4d81-cfe3-364da81aaf2a"
      },
      "execution_count": 47,
      "outputs": [
        {
          "output_type": "stream",
          "name": "stdout",
          "text": [
            "[ 5. -2.  3.]\n",
            "[[1. 0. 0.]\n",
            " [0. 1. 0.]\n",
            " [0. 0. 1.]]\n",
            "[5. 0. 0.]\n",
            "[5. 0. 0.]\n"
          ]
        }
      ]
    },
    {
      "cell_type": "code",
      "source": [
        "e=np.array(([1,2],[2,1]))\n",
        "eigenval,eigenvect=np.linalg.eig(e)\n",
        "print(eigenval)\n",
        "print(eigenvect)#for a diagonal matrix, the identity matrix is the eigenvector\n",
        "v1=eigenvect[:,0]\n",
        "print(e @ v1)\n",
        "print(eigenval[0] * v1)"
      ],
      "metadata": {
        "colab": {
          "base_uri": "https://localhost:8080/"
        },
        "id": "_2ds7kxfTaik",
        "outputId": "020f182d-0673-46ea-8828-f6c4fa3e1f30"
      },
      "execution_count": 49,
      "outputs": [
        {
          "output_type": "stream",
          "name": "stdout",
          "text": [
            "[ 3. -1.]\n",
            "[[ 0.70710678 -0.70710678]\n",
            " [ 0.70710678  0.70710678]]\n",
            "[2.12132034 2.12132034]\n",
            "[2.12132034 2.12132034]\n"
          ]
        }
      ]
    },
    {
      "cell_type": "code",
      "source": [
        "print(e,\"\\n\",e.T)"
      ],
      "metadata": {
        "colab": {
          "base_uri": "https://localhost:8080/"
        },
        "id": "OryltMpiXETg",
        "outputId": "e08af005-c5c0-4483-f9d8-f10e259af81f"
      },
      "execution_count": 55,
      "outputs": [
        {
          "output_type": "stream",
          "name": "stdout",
          "text": [
            "[[1 2]\n",
            " [2 1]] \n",
            " [[1 2]\n",
            " [2 1]]\n"
          ]
        }
      ]
    },
    {
      "cell_type": "code",
      "source": [
        "print(np.dot([ 0.70710678, -0.70710678],[ 0.70710678 , 0.70710678]))#the eigen vectors of a symmetric matrix are orthoganal"
      ],
      "metadata": {
        "colab": {
          "base_uri": "https://localhost:8080/"
        },
        "id": "9gbDxP_dXXBw",
        "outputId": "761cd84d-f7b8-49d0-bbe5-2afeb5509ac9"
      },
      "execution_count": 61,
      "outputs": [
        {
          "output_type": "stream",
          "name": "stdout",
          "text": [
            "0.0\n"
          ]
        }
      ]
    },
    {
      "cell_type": "code",
      "source": [
        "e=e*2\n",
        "eigenval,eigenvect=np.linalg.eig(e)\n",
        "print(eigenval)\n",
        "print(eigenvect)\n",
        "v1=eigenvect[:,0]\n",
        "print(e @ v1)\n",
        "print(eigenval[0] * v1)#after scalar multiplication the eigen vectors did not change, however the eigen values doubled as well as the matrix vector product doubled"
      ],
      "metadata": {
        "colab": {
          "base_uri": "https://localhost:8080/"
        },
        "id": "CM7JMCoMYDk3",
        "outputId": "e8498d80-5d00-446e-f1c6-7d24d8ccdb95"
      },
      "execution_count": 62,
      "outputs": [
        {
          "output_type": "stream",
          "name": "stdout",
          "text": [
            "[ 6. -2.]\n",
            "[[ 0.70710678 -0.70710678]\n",
            " [ 0.70710678  0.70710678]]\n",
            "[4.24264069 4.24264069]\n",
            "[4.24264069 4.24264069]\n"
          ]
        }
      ]
    },
    {
      "cell_type": "code",
      "source": [],
      "metadata": {
        "id": "n088HhRZYqVR"
      },
      "execution_count": null,
      "outputs": []
    }
  ]
}